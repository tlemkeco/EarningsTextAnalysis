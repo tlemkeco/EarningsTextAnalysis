{
 "cells": [
  {
   "cell_type": "code",
   "execution_count": 28,
   "metadata": {},
   "outputs": [],
   "source": [
    "#Imports\n",
    "from bs4 import BeautifulSoup\n",
    "import spacy\n",
    "nlp = spacy.load('en_core_web_sm')"
   ]
  },
  {
   "cell_type": "code",
   "execution_count": 29,
   "metadata": {},
   "outputs": [],
   "source": [
    "#open and read html file into a variable--> then to beautiful soup\n",
    "with open('1Q18.html') as f:\n",
    "    contents = f.read()\n",
    "    soup = BeautifulSoup(contents,'html')\n",
    "    soup.table.decompose()"
   ]
  },
  {
   "cell_type": "code",
   "execution_count": 30,
   "metadata": {},
   "outputs": [],
   "source": [
    "#extract elements from soup and then append to a blank list\n",
    "blank = []\n",
    "\n",
    "for x in soup.find_all('div',class_='module_container module_container--content'):\n",
    "    blank.append(x.text)"
   ]
  },
  {
   "cell_type": "code",
   "execution_count": 31,
   "metadata": {},
   "outputs": [],
   "source": [
    "#beautiful soup object has been converted to a list--> now convert to a string\n",
    "\n",
    "empty_string = ''\n",
    "new_string = empty_string.join(i for i in blank)"
   ]
  },
  {
   "cell_type": "code",
   "execution_count": 32,
   "metadata": {},
   "outputs": [],
   "source": [
    "doc = nlp(new_string)"
   ]
  },
  {
   "cell_type": "code",
   "execution_count": 33,
   "metadata": {},
   "outputs": [
    {
     "data": {
      "text/plain": [
       "\n",
       "\n",
       "05/03/2018\n",
       "\n",
       "\n",
       "\n",
       "\n",
       "Download this Press Release\n",
       "PDF Format (opens in new window)\n",
       "\n",
       "\n",
       "\n",
       "\n",
       "FDA decision on glycopyrronium tosylate New Drug Application expected by June 30, 2018\n",
       "Lebrikizumab Phase 2b study enrolling patients, data expected in first half of 2019\n",
       "MENLO PARK, Calif., May  03, 2018  (GLOBE NEWSWIRE) -- Dermira, Inc. (NASDAQ:DERM), a biopharmaceutical company dedicated to bringing biotech ingenuity to medical dermatology by delivering differentiated, new therapies to the millions of patients living with chronic skin conditions, today reported financial results for the quarter ended March 31, 2018 and provided an update on its clinical development programs.\n",
       "“For the past eight years, Dermira has been working towards its goal of offering new therapies for the millions of patients living with chronic skin conditions, and 2018 promises to be an exciting year as we expect to complete our journey from a development stage to a commercial stage company,” said Tom Wiggans, chairman and chief executive officer of Dermira. “The second half of 2018 holds great potential for the company as we await a decision on our new drug application for glycopyrronium tosylate as a potential treatment option for the millions of people suffering from axillary hyperhidrosis and aim to complete the enrollment of our lebrikizumab Phase 2b trial.”\n",
       "Operational Highlights and Clinical Pipeline Update\n",
       "In April 2018, Dermira announced the appointment of Christopher Horan as Chief Technical Operations Officer. In this newly created role, Chris will oversee pharmaceutical sciences, procurement, supply chain, including contract manufacturing, and quality as Dermira prepares to commercialize glycopyrronium tosylate (formerly DRM04). \n",
       "In March 2018, Dermira announced that the investigational treatment olumacostat glasaretil (formerly DRM01) did not meet the co-primary endpoints in its two Phase 3 pivotal trials (CLAREOS-1 and CLAREOS-2) in patients ages nine years and older with moderate-to-severe acne vulgaris, and the company expects to discontinue the program. \n",
       "In February 2018, Dermira presented new findings from its glycopyrronium tosylate Phase 3 clinical program. The data showed that when applied topically, the investigational therapy improved disease severity, reduced sweat production and was associated with improved quality of life outcomes for pediatric patients (ages 9 to 16) with primary axillary hyperhidrosis (excessive underarm sweating), compared to vehicle-treated patients. \n",
       "In January 2018, Dermira announced the initiation of a Phase 2b dose-ranging study evaluating lebrikizumab in adult patients with moderate-to-severe atopic dermatitis, the most common form of eczema. The randomized, double-blind, placebo-controlled, parallel-group Phase 2b study is designed to evaluate the safety and efficacy of lebrikizumab as a monotherapy compared with placebo and to establish the dosing regimen for a potential Phase 3 program. Lebrikizumab is a novel, humanized monoclonal antibody designed to bind to IL-13 with high affinity, specifically preventing formation of the IL-13 receptor/IL-4 receptor complex and subsequent signaling. IL-13 plays a central role in type 2 inflammation and is an important pathogenic mediator in atopic dermatitis. The study is expected to enroll approximately 275 patients. Topline results are expected in the first half of 2019.\n",
       "Financial Highlights\n",
       "First Quarter 2018 Financial Results\n",
       "For the quarter ended March 31, 2018, Dermira reported a net loss of $59.3 million, compared with a net loss of $29.5 million for the same period in 2017.  \n",
       "Total operating expenses for the quarter ended March 31, 2018 were $57.2 million, compared to $31.2 million for the first quarter of 2017. This increase was primarily driven by higher personnel-related and commercial readiness expenses.  Research and development expenses for the first quarter of 2018 were $25.6 million, compared to $19.9 million for the comparable prior-year period. This increase was primarily driven by clinical trial activities for the lebrikizumab and olumacostat glasaretil product candidates and higher personnel-related expenses, offset by a decrease in clinical trial activities for the Cimzia program. \n",
       "General and administrative expenses for the first quarter of 2018 were $30.5 million, compared to $11.3 million for the comparable prior-year period. This increase was primarily driven by higher personnel-related and commercial readiness expenses. \n",
       "\n",
       "As of March 31, 2018, Dermira had cash and investments of $495.8 million, and 41.8 million common shares outstanding.\n",
       "Key Milestones and Expectations\n",
       "Hold the company’s inaugural analyst and investor day on May 24, 2018 to review the company’s commercial activities for glycopyrronium tosylate and its pipeline and issue financial guidance.\n",
       "Initiate the second phase of the hyperhidrosis disease state awareness campaign in the second quarter of 2018.\n",
       "If approved by the U.S. Food and Drug Administration (FDA), launch glycopyrronium tosylate for the treatment of axillary hyperhidrosis in the second half of 2018.\n",
       "About DermiraDermira is a biopharmaceutical company dedicated to bringing biotech ingenuity to medical dermatology by delivering differentiated, new therapies to the millions of patients living with chronic skin conditions. Dermira is committed to understanding the needs of both patients and physicians and using its insight to identify and develop leading-edge medical dermatology programs. Dermira’s pipeline includes two late-stage product candidates that could have a profound impact on the lives of patients: glycopyrronium tosylate (formerly DRM04), for which a New Drug Application is under review by the U.S. Food and Drug Administration for the treatment of primary axillary hyperhidrosis (excessive underarm sweating beyond what is needed for normal body temperature regulation), and lebrikizumab, in Phase 2b development for the treatment of moderate-to-severe atopic dermatitis. Dermira is headquartered in Menlo Park, Calif.  For more information, please visit http://www.dermira.com. Follow Dermira on Twitter and LinkedIn.\n",
       "In addition to filings with the Securities and Exchange Commission (SEC), press releases, public conference calls and webcasts, Dermira uses its website (www.dermira.com), LinkedIn page (https://www.linkedin.com/company/dermira-inc-) and corporate Twitter account (@DermiraInc) as channels of distribution of information about its company, product candidates, planned financial and other announcements, attendance at upcoming investor and industry conferences and other matters. Such information may be deemed material information and Dermira may use these channels to comply with its disclosure obligations under Regulation FD. Therefore, investors should monitor Dermira’s website, LinkedIn page and Twitter account in addition to following its SEC filings, news releases, public conference calls and webcasts.\n",
       "Forward-Looking Statements (update)\n",
       "The information in this news release contains forward-looking statements and information within the meaning of Section 27A of the Securities Act of 1933, as amended, and Section 21E of the Securities Exchange Act of 1934, as amended, which are subject to the “safe harbor” created by those sections. This news release contains forward-looking statements that involve substantial risks and uncertainties, including statements with respect to: Dermira’s goal of bringing biotech ingenuity to medical dermatology by delivering differentiated, new therapies to the millions of patients living with chronic skin conditions; potential FDA approval of glycopyrronium tosylate for the treatment of primary axillary hyperhidrosis and the anticipated timing of such approval; the description of and enrollment expectations for Dermira’s Phase 2b dose-ranging study of lebrikizumab for moderate-to-severe atopic dermatitis; the successful completion of, and timing expectations for the receipt and announcement of topline data from the Phase 2b dose-ranging study of lebrikizumab for moderate-to-severe atopic dermatitis; expectations that Dermira will complete its journey from a development stage to a commercial stage company in 2018 and that the second half of 2018 holds great potential for Dermira; the expected discontinuation of Dermira’s olumacostat glasaretil development program; Dermira’s plan to hold an inaugural analyst and investor day on May 24, 2018 to review the company’s commercial activities for glycopyrronium tosylate, its pipeline and issue financial guidance; expectations regarding Dermira’s launch of the second phase of its hyperhidrosis disease state awareness campaign in the second quarter of 2018; and the anticipated commercial launch of glycopyrronium tosylate for the treatment of axillary hyperhidrosis in the second half of 2018. These statements deal with future events and involve known and unknown risks, uncertainties and other factors that may cause actual results, performance or achievements to be materially different from the information expressed or implied by these forward-looking statements. Factors that could cause actual results to differ materially include risks and uncertainties such as those relating to the outcomes of Dermira’s future meetings and communications with regulatory agencies; the design, implementation and outcomes of Dermira’s clinical trials; Dermira’s dependence on third-party clinical research organizations, manufacturers and suppliers; Dermira’s ability to attract and retain key employees; Dermira’s ability to obtain necessary additional capital; and Dermira’s ability to continue to stay in compliance with applicable laws and regulations. You should refer to the section entitled “Risk Factors” set forth in Dermira’s Annual Report on Form 10-K, Dermira’s Quarterly Reports on Form 10-Q and other filings Dermira makes with the SEC from time to time for a discussion of important factors that may cause actual results to differ materially from those expressed or implied by Dermira’s forward-looking statements. Furthermore, such forward-looking statements speak only as of the date of this news release. Dermira undertake no obligation to publicly update any forward-looking statements or reasons why actual results might differ, whether as a result of new information, future events or otherwise, except as required by law.\n",
       "Contacts:\n",
       "Media:Erica JeffersonVice President, Corporate Communications650-421-7216erica.jefferson@dermira.com\n",
       "Investors:Ian Clements, Ph.D.Vice President, Investor Relations650-422-7753investor@dermira.com\n",
       "Robert H. UhlWestwicke PartnersManaging Director858-356-5932robert.uhl@westwicke.com\n",
       "  \n",
       "\n",
       "\n",
       "\n",
       "Source: Dermira, Inc.\n",
       "\n",
       "\n",
       "Categories:\n",
       "Press Releases\n"
      ]
     },
     "execution_count": 33,
     "metadata": {},
     "output_type": "execute_result"
    }
   ],
   "source": [
    "doc"
   ]
  },
  {
   "cell_type": "code",
   "execution_count": null,
   "metadata": {},
   "outputs": [],
   "source": []
  }
 ],
 "metadata": {
  "kernelspec": {
   "display_name": "Python 3",
   "language": "python",
   "name": "python3"
  },
  "language_info": {
   "codemirror_mode": {
    "name": "ipython",
    "version": 3
   },
   "file_extension": ".py",
   "mimetype": "text/x-python",
   "name": "python",
   "nbconvert_exporter": "python",
   "pygments_lexer": "ipython3",
   "version": "3.7.4"
  }
 },
 "nbformat": 4,
 "nbformat_minor": 2
}
